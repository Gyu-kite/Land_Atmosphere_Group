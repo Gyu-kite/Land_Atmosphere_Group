{
 "cells": [
  {
   "cell_type": "markdown",
   "id": "37d8e9b9-d3f1-47ca-853b-d755a3fb5a2a",
   "metadata": {
    "jp-MarkdownHeadingCollapsed": true,
    "tags": []
   },
   "source": [
    "# Module"
   ]
  },
  {
   "cell_type": "code",
   "execution_count": 1,
   "id": "0749ca95-5a86-43d0-b07c-ca21ecdbd9cf",
   "metadata": {
    "execution": {
     "iopub.execute_input": "2023-09-03T06:12:41.089361Z",
     "iopub.status.busy": "2023-09-03T06:12:41.089137Z",
     "iopub.status.idle": "2023-09-03T06:12:52.481361Z",
     "shell.execute_reply": "2023-09-03T06:12:52.480735Z",
     "shell.execute_reply.started": "2023-09-03T06:12:41.089345Z"
    },
    "tags": []
   },
   "outputs": [],
   "source": [
    "import numpy as np\n",
    "import xarray as xr\n",
    "import pandas as pd\n",
    "from netCDF4 import Dataset, MFDataset\n",
    "import netCDF4\n",
    "import matplotlib.pyplot as plt\n",
    "import glob\n",
    "from datetime import datetime, timedelta\n",
    "from scipy import stats\n",
    "import shutil\n",
    "from scipy.spatial import distance\n",
    "import metpy\n",
    "import xskillscore as xs\n",
    "import matplotlib.ticker as mticker\n",
    "import cartopy.feature as cfeature\n",
    "import cartopy.crs as ccrs\n",
    "import cartopy.mpl.ticker as cticker\n",
    "from cartopy.util import add_cyclic_point\n",
    "from cartopy.feature import NaturalEarthFeature\n",
    "from glob import *\n",
    "import sys, os, time, warnings\n",
    "import pandas as pd\n",
    "import pytz\n",
    "from cartopy.mpl.gridliner import LongitudeFormatter, LatitudeFormatter\n",
    "warnings.filterwarnings(action='ignore')\n",
    "warnings.simplefilter(action='ignore')\n",
    "from dask.diagnostics import ProgressBar\n",
    "import metpy"
   ]
  },
  {
   "cell_type": "markdown",
   "id": "095630c6-4092-4be4-a1e9-29dc2b96403c",
   "metadata": {
    "jp-MarkdownHeadingCollapsed": true,
    "tags": []
   },
   "source": [
    "# function  \n",
    "아래의 함수들 포함.  \n",
    "\n",
    "fft_1st_phase(a)  \n",
    "find_nearest(array, value)  \n",
    "find_nearest_idx(array, value) \n",
    "harm_1st_max_idx(array, values)  \n",
    "diurnal_cycle_fig(data,daily_mean_data,time,data_source)  \n",
    "grid_transfer(data)  \n",
    "regrid(change_data,target_data)  \n",
    "amplitude_fig(data,data_source)amplitude_fig(data,data_source)  \n",
    "print(f\"latitude : {i}\", end='\\r') # 순서 보여주는거\n"
   ]
  },
  {
   "cell_type": "markdown",
   "id": "af5091a7-fd85-455a-a522-2e457431195f",
   "metadata": {
    "tags": []
   },
   "source": [
    "### harmonic analysis function"
   ]
  },
  {
   "cell_type": "code",
   "execution_count": 2,
   "id": "3de55bd5-3413-4302-9537-09d847972998",
   "metadata": {
    "execution": {
     "iopub.execute_input": "2023-09-03T05:11:32.487782Z",
     "iopub.status.busy": "2023-09-03T05:11:32.487531Z",
     "iopub.status.idle": "2023-09-03T05:11:32.492394Z",
     "shell.execute_reply": "2023-09-03T05:11:32.492075Z",
     "shell.execute_reply.started": "2023-09-03T05:11:32.487770Z"
    },
    "tags": []
   },
   "outputs": [],
   "source": [
    "def fft_1st_phase(a):\n",
    "    ff = np.fft.fft(a)\n",
    "    # Get the complex vector at that frequency to retrieve amplitude and phase shift\n",
    "    yy = ff[1] \n",
    "\n",
    "    # Calculate the amplitude\n",
    "    T = a.shape[0] # domain of x; which we will divide height to get freq amplitude\n",
    "    A = np.sqrt(yy.real**2 + yy.imag**2)/T \n",
    "    # print('amplitude of:', A) \n",
    "    \n",
    "    # Calculate phase shift\n",
    "    phi = np.arctan(yy.imag/yy.real)\n",
    "    # print('phase change:', phi)\n",
    "    \n",
    "    return phi, yy.real ,A\n",
    "\n",
    "\n",
    "def find_nearest(array, value):\n",
    "    array = np.asarray(array)\n",
    "    idx = (np.abs(array - value)).argmin()\n",
    "    return array[idx]\n",
    "\n",
    "def find_nearest_idx(array, value):\n",
    "    array = np.asarray(array)\n",
    "    idx = (np.abs(array - value)).argmin()\n",
    "    return idx\n",
    "\n",
    "def harm_1st_max_idx(array, values): # 앞에가 시간 뒤에가 강수\n",
    "    pp=0\n",
    "    if fft_1st_phase(values)[1]>0:\n",
    "        if fft_1st_phase(values)[0]<0:\n",
    "            pp = -fft_1st_phase(values)[0]/np.pi *np.pi\n",
    "        elif fft_1st_phase(values)[0]>0:\n",
    "            pp = ( 2. - fft_1st_phase(values)[0]/np.pi ) *np.pi\n",
    "    elif fft_1st_phase(values)[1]<0:\n",
    "        pp = ( -fft_1st_phase(values)[0]/np.pi + 1. ) *np.pi    \n",
    "    \n",
    "    pp2 = np.nanmax(array,axis=0) * pp / (2.*np.pi)    \n",
    "    return find_nearest_idx(array, pp2)"
   ]
  },
  {
   "cell_type": "markdown",
   "id": "a91ad2ae-71e0-4ecc-a434-a9f62972f190",
   "metadata": {
    "tags": []
   },
   "source": [
    "### diurnal cycle fig function"
   ]
  },
  {
   "cell_type": "code",
   "execution_count": 3,
   "id": "d643b604-847d-49bb-82bd-76e527bc2504",
   "metadata": {
    "execution": {
     "iopub.execute_input": "2023-09-03T05:11:32.493449Z",
     "iopub.status.busy": "2023-09-03T05:11:32.493280Z",
     "iopub.status.idle": "2023-09-03T05:11:32.551785Z",
     "shell.execute_reply": "2023-09-03T05:11:32.551338Z",
     "shell.execute_reply.started": "2023-09-03T05:11:32.493437Z"
    },
    "tags": []
   },
   "outputs": [],
   "source": [
    "def diurnal_cycle_fig(data,daily_mean_data,time,data_source):\n",
    "\n",
    "    if time == 'utc':\n",
    "        tt = 'UTC(hour)'\n",
    "    else : \n",
    "        tt = 'LST(hour)'\n",
    "        \n",
    "    tick_spacing = 30\n",
    "\n",
    "    projection = ccrs.PlateCarree()\n",
    "    crs = ccrs.PlateCarree()\n",
    "    fig = plt.figure(figsize=(20,10))\n",
    "    ax = plt.axes(projection=projection, frameon=True)\n",
    "\n",
    "\n",
    "    varMin, varMax, varInt = 0, 24, 1\n",
    "    levels = np.arange(varMin, varMax+varInt, varInt)\n",
    "    nlevs  = levels.size\n",
    "    tick_interval = 2\n",
    "    cmap = plt.get_cmap('Spectral', nlevs)\n",
    "    extent=[-180, 180, -60, 60]\n",
    "    gl = ax.gridlines(crs=crs, draw_labels=True, linewidth=1, color='gray', alpha=1, linestyle='-.')\n",
    "    gl.xlabel_style = {\"size\" : 13}\n",
    "    gl.ylabel_style = {\"size\" : 13}\n",
    "    gl.xlocator = mticker.FixedLocator(np.arange(extent[0], extent[1] + tick_spacing, tick_spacing))\n",
    "    gl.ylocator = mticker.FixedLocator(np.arange(extent[2], extent[3] + tick_spacing, tick_spacing))\n",
    "\n",
    "    ax.xaxis.set_major_formatter(LongitudeFormatter())\n",
    "    ax.yaxis.set_major_formatter(LatitudeFormatter()) \n",
    "\n",
    "    gl.top_labels = None\n",
    "    gl.right_labels = None\n",
    "\n",
    "    ax.add_feature(cfeature.COASTLINE.with_scale(\"50m\"), lw=0.8)\n",
    "    ax.add_feature(cfeature.OCEAN.with_scale(\"50m\"), edgecolor='none', facecolor='lightgray')\n",
    "    ax.add_feature(cfeature.BORDERS.with_scale(\"50m\"), lw=0.3)\n",
    "    ax.set_extent([-180, 180, -60, 60], crs=ccrs.PlateCarree())\n",
    "\n",
    "    lons = data['longitude']  # 경도\n",
    "    lats = data['latitude']  # 위도\n",
    "    values = data[time]\n",
    "\n",
    "    lons, lats = np.meshgrid(data['longitude'], data['latitude'])\n",
    "\n",
    "    cnplot = ax.contourf(lons, lats, values,cmap=cmap,levels=levels,zorder=0,transform=ccrs.PlateCarree())\n",
    "\n",
    "    cbar = plt.colorbar(cnplot,ticks=np.arange(varMin, varMax+tick_interval, tick_interval), \n",
    "                        orientation='vertical', pad=0.01, shrink=.575) \n",
    "\n",
    "    zm = np.ma.masked_less(daily_mean_data, 0.275)\n",
    "    plt.pcolor(lons, lats,zm, hatch='xxx', alpha=0.)\n",
    "\n",
    "    cbar.set_label(tt, fontsize=15)\n",
    "    cbar.ax.tick_params(labelsize=15)\n",
    "\n",
    "    plt.xlabel('Longitude',fontsize=10,fontweight='bold')\n",
    "    plt.ylabel('Latitude',fontsize=10,fontweight='bold')    \n",
    "    ax.set_title(data_source+' [JJA 2022]',fontsize=20,fontweight='bold')\n",
    "    plt.show()\n"
   ]
  },
  {
   "cell_type": "markdown",
   "id": "392409cd-e3cb-4a0f-9e32-c5842b5ab189",
   "metadata": {
    "tags": []
   },
   "source": [
    "### grid inverse function"
   ]
  },
  {
   "cell_type": "code",
   "execution_count": 4,
   "id": "f71bb3cd-64ae-41cd-ad4b-b96f8b8fad27",
   "metadata": {
    "execution": {
     "iopub.execute_input": "2023-09-03T05:11:32.552473Z",
     "iopub.status.busy": "2023-09-03T05:11:32.552327Z",
     "iopub.status.idle": "2023-09-03T05:11:32.555128Z",
     "shell.execute_reply": "2023-09-03T05:11:32.554813Z",
     "shell.execute_reply.started": "2023-09-03T05:11:32.552460Z"
    },
    "tags": []
   },
   "outputs": [],
   "source": [
    "def grid_transfer(data):\n",
    "    data=data.sortby(data['latitude'], ascending=True) #위도 ㅂ반전\n",
    "    data['longitude'] = xr.where(data['longitude'] > 180, data['longitude'] - 360, data['longitude']) # 경도 반전\n",
    "    data = data.sortby(data['longitude']) #바뀐 경도에 대해 값들 맞춰줌 한번만 실행할것\n",
    "    \n",
    "    return data"
   ]
  },
  {
   "cell_type": "markdown",
   "id": "1b9d53f8-b148-4dbd-aa87-66fed45311b1",
   "metadata": {
    "tags": []
   },
   "source": [
    "### amplitude_fig"
   ]
  },
  {
   "cell_type": "code",
   "execution_count": 5,
   "id": "c9f5dbaa-23fe-4b51-9702-2b2d31450244",
   "metadata": {
    "execution": {
     "iopub.execute_input": "2023-09-03T05:11:32.555832Z",
     "iopub.status.busy": "2023-09-03T05:11:32.555580Z",
     "iopub.status.idle": "2023-09-03T05:11:32.561986Z",
     "shell.execute_reply": "2023-09-03T05:11:32.561668Z",
     "shell.execute_reply.started": "2023-09-03T05:11:32.555819Z"
    },
    "tags": []
   },
   "outputs": [],
   "source": [
    "def amplitude_fig(data,data_source):\n",
    "\n",
    "    tick_spacing = 30\n",
    "    projection = ccrs.PlateCarree()\n",
    "    crs = ccrs.PlateCarree()\n",
    "    fig = plt.figure(figsize=(20,10))\n",
    "    ax = plt.axes(projection=projection, frameon=True)\n",
    "\n",
    "\n",
    "    varMin, varMax, varInt = 0, 2, 0.1\n",
    "    levels = np.arange(varMin, varMax+varInt, varInt)\n",
    "    nlevs  = levels.size\n",
    "    tick_interval = 0.2\n",
    "    cmap = plt.get_cmap('plasma', nlevs)\n",
    "    extent=[-180, 180, -60, 60]\n",
    "\n",
    "    gl = ax.gridlines(crs=crs, draw_labels=True, linewidth=1, color='gray', alpha=1, linestyle='-.')\n",
    "    gl.xlabel_style = {\"size\" : 13}\n",
    "    gl.ylabel_style = {\"size\" : 13}\n",
    "    gl.xlocator = mticker.FixedLocator(np.arange(extent[0], extent[1] + tick_spacing, tick_spacing))\n",
    "    gl.ylocator = mticker.FixedLocator(np.arange(extent[2], extent[3] + tick_spacing, tick_spacing))\n",
    "\n",
    "    ax.xaxis.set_major_formatter(LongitudeFormatter())\n",
    "    ax.yaxis.set_major_formatter(LatitudeFormatter()) \n",
    "\n",
    "    gl.top_labels = None\n",
    "    gl.right_labels = None\n",
    "\n",
    "    ax.add_feature(cfeature.COASTLINE.with_scale(\"50m\"), lw=0.8)\n",
    "    ax.add_feature(cfeature.OCEAN.with_scale(\"50m\"), edgecolor='none', facecolor='lightgray')\n",
    "    ax.add_feature(cfeature.BORDERS.with_scale(\"50m\"), lw=0.3)\n",
    "    ax.set_extent([-180, 180, -60, 60], crs=ccrs.PlateCarree())\n",
    "\n",
    "    lons = data['longitude']  # 경도\n",
    "    lats = data['latitude']  # 위도\n",
    "    values = data['amlitude']\n",
    "\n",
    "    lons, lats = np.meshgrid(data['longitude'], data['latitude'])\n",
    "\n",
    "    cnplot = ax.contourf(lons, lats, values,cmap=cmap,levels=levels,zorder=0,\n",
    "                         transform=ccrs.PlateCarree(),extend='max')\n",
    "\n",
    "    cbar = plt.colorbar(cnplot,ticks=np.arange(varMin, varMax+tick_interval, tick_interval), \n",
    "                        orientation='vertical', pad=0.01, shrink=.56) \n",
    "\n",
    "    # zm = np.ma.masked_less(daily_mean_data, 0.275)\n",
    "    # plt.pcolor(lons, lats,zm, hatch='xxx', alpha=0.)\n",
    "\n",
    "    cbar.set_label('Amplitude', fontsize=15)\n",
    "    cbar.ax.tick_params(labelsize=15)\n",
    "\n",
    "    plt.xlabel('Longitude',fontsize=10,fontweight='bold')\n",
    "    plt.ylabel('Latitude',fontsize=10,fontweight='bold')    \n",
    "    ax.set_title(data_source+' [JJA 2022]',fontsize=20,fontweight='bold')\n",
    "    plt.show()\n"
   ]
  },
  {
   "cell_type": "markdown",
   "id": "41512977-3188-4ae2-a2e1-650d88cc6fcc",
   "metadata": {
    "tags": []
   },
   "source": [
    "### grid same"
   ]
  },
  {
   "cell_type": "code",
   "execution_count": 6,
   "id": "9028b2a3-e593-417f-8ed7-341e27bc8a13",
   "metadata": {
    "execution": {
     "iopub.execute_input": "2023-09-03T05:11:32.562680Z",
     "iopub.status.busy": "2023-09-03T05:11:32.562410Z",
     "iopub.status.idle": "2023-09-03T05:11:32.893461Z",
     "shell.execute_reply": "2023-09-03T05:11:32.893022Z",
     "shell.execute_reply.started": "2023-09-03T05:11:32.562668Z"
    },
    "tags": []
   },
   "outputs": [],
   "source": [
    "import xesmf as xe"
   ]
  },
  {
   "cell_type": "code",
   "execution_count": 7,
   "id": "26640638-3c41-44ac-bdaa-83770e97ff69",
   "metadata": {
    "execution": {
     "iopub.execute_input": "2023-09-03T05:11:32.894299Z",
     "iopub.status.busy": "2023-09-03T05:11:32.894032Z",
     "iopub.status.idle": "2023-09-03T05:11:32.896592Z",
     "shell.execute_reply": "2023-09-03T05:11:32.896277Z",
     "shell.execute_reply.started": "2023-09-03T05:11:32.894285Z"
    },
    "tags": []
   },
   "outputs": [],
   "source": [
    "def regrid(change_data,target_data):\n",
    "    grid_frame = xe.Regridder(change_data, target_data, \"bilinear\")\n",
    "    regrid_data=grid_frame(change_data)\n",
    "    return regrid_data"
   ]
  },
  {
   "cell_type": "markdown",
   "id": "02800161-0da6-4da5-a88c-ee43403c2086",
   "metadata": {
    "tags": []
   },
   "source": [
    "# ERA5 자료 처리"
   ]
  },
  {
   "cell_type": "markdown",
   "id": "14b03c61-eb27-4930-a900-436db50eec72",
   "metadata": {},
   "source": [
    "Mean rate/flux parameters in ERA5 (e.g. Table 4 for surface and single levels) provide similar information to accumulations   \n",
    "(e.g. Table 3 for surface and single levels), except they are expressed as temporal means, over the same processing periods, and so have units of \"per second\".  \n",
    "\n",
    "Mean rate/flux parameters are easier to deal with than accumulations because the units do not vary with the processing period.  \n",
    "The mean rate hydrological parameters (e.g. the \"Mean total precipitation rate\") have units of \"kg m-2 s-1\", which are equivalent to \"mm s-1\".   \n",
    "They can be multiplied by 86400 seconds (24 hours) to convert to kg m-2 day-1 or mm day-1.  "
   ]
  },
  {
   "cell_type": "markdown",
   "id": "c30b4944-04b6-4ea1-8640-d88ba7448091",
   "metadata": {},
   "source": [
    "## Make lst data"
   ]
  },
  {
   "cell_type": "code",
   "execution_count": 2,
   "id": "033160b5-e9a7-4245-a23f-aec2ae594513",
   "metadata": {
    "execution": {
     "iopub.execute_input": "2023-09-03T06:12:52.486948Z",
     "iopub.status.busy": "2023-09-03T06:12:52.486815Z",
     "iopub.status.idle": "2023-09-03T06:12:52.489222Z",
     "shell.execute_reply": "2023-09-03T06:12:52.488801Z",
     "shell.execute_reply.started": "2023-09-03T06:12:52.486936Z"
    },
    "tags": []
   },
   "outputs": [],
   "source": [
    "year = np.arange(1979,2023)\n",
    "hour = np.arange(0,24,3)"
   ]
  },
  {
   "cell_type": "code",
   "execution_count": 3,
   "id": "b8eb7332-bcb4-4bbd-bd62-61158b53b6d2",
   "metadata": {
    "execution": {
     "iopub.execute_input": "2023-09-03T06:12:52.490191Z",
     "iopub.status.busy": "2023-09-03T06:12:52.490047Z",
     "iopub.status.idle": "2023-09-03T06:12:52.492674Z",
     "shell.execute_reply": "2023-09-03T06:12:52.492279Z",
     "shell.execute_reply.started": "2023-09-03T06:12:52.490179Z"
    },
    "tags": []
   },
   "outputs": [],
   "source": [
    "file_list=sorted(glob('/data1/user/gychoi/Data/ERA_land/ERA_lst_base' + '*.nc'))"
   ]
  },
  {
   "cell_type": "code",
   "execution_count": 4,
   "id": "94bfcea5-58dd-4963-8186-2c6671a39bdf",
   "metadata": {
    "collapsed": true,
    "execution": {
     "iopub.execute_input": "2023-09-03T06:12:52.493281Z",
     "iopub.status.busy": "2023-09-03T06:12:52.493149Z",
     "iopub.status.idle": "2023-09-03T06:12:52.496313Z",
     "shell.execute_reply": "2023-09-03T06:12:52.495916Z",
     "shell.execute_reply.started": "2023-09-03T06:12:52.493270Z"
    },
    "jupyter": {
     "outputs_hidden": true
    },
    "tags": []
   },
   "outputs": [
    {
     "data": {
      "text/plain": [
       "['/data1/user/gychoi/Data/ERA_land/ERA_lst_base1979.nc',\n",
       " '/data1/user/gychoi/Data/ERA_land/ERA_lst_base1980.nc',\n",
       " '/data1/user/gychoi/Data/ERA_land/ERA_lst_base1981.nc',\n",
       " '/data1/user/gychoi/Data/ERA_land/ERA_lst_base1982.nc',\n",
       " '/data1/user/gychoi/Data/ERA_land/ERA_lst_base1983.nc',\n",
       " '/data1/user/gychoi/Data/ERA_land/ERA_lst_base1984.nc',\n",
       " '/data1/user/gychoi/Data/ERA_land/ERA_lst_base1985.nc',\n",
       " '/data1/user/gychoi/Data/ERA_land/ERA_lst_base1986.nc',\n",
       " '/data1/user/gychoi/Data/ERA_land/ERA_lst_base1987.nc',\n",
       " '/data1/user/gychoi/Data/ERA_land/ERA_lst_base1988.nc',\n",
       " '/data1/user/gychoi/Data/ERA_land/ERA_lst_base1989.nc',\n",
       " '/data1/user/gychoi/Data/ERA_land/ERA_lst_base1990.nc',\n",
       " '/data1/user/gychoi/Data/ERA_land/ERA_lst_base1991.nc',\n",
       " '/data1/user/gychoi/Data/ERA_land/ERA_lst_base1992.nc',\n",
       " '/data1/user/gychoi/Data/ERA_land/ERA_lst_base1993.nc',\n",
       " '/data1/user/gychoi/Data/ERA_land/ERA_lst_base1994.nc',\n",
       " '/data1/user/gychoi/Data/ERA_land/ERA_lst_base1995.nc',\n",
       " '/data1/user/gychoi/Data/ERA_land/ERA_lst_base1996.nc',\n",
       " '/data1/user/gychoi/Data/ERA_land/ERA_lst_base1997.nc',\n",
       " '/data1/user/gychoi/Data/ERA_land/ERA_lst_base1998.nc',\n",
       " '/data1/user/gychoi/Data/ERA_land/ERA_lst_base1999.nc',\n",
       " '/data1/user/gychoi/Data/ERA_land/ERA_lst_base2000.nc',\n",
       " '/data1/user/gychoi/Data/ERA_land/ERA_lst_base2001.nc',\n",
       " '/data1/user/gychoi/Data/ERA_land/ERA_lst_base2002.nc',\n",
       " '/data1/user/gychoi/Data/ERA_land/ERA_lst_base2003.nc',\n",
       " '/data1/user/gychoi/Data/ERA_land/ERA_lst_base2004.nc',\n",
       " '/data1/user/gychoi/Data/ERA_land/ERA_lst_base2005.nc',\n",
       " '/data1/user/gychoi/Data/ERA_land/ERA_lst_base2006.nc',\n",
       " '/data1/user/gychoi/Data/ERA_land/ERA_lst_base2007.nc',\n",
       " '/data1/user/gychoi/Data/ERA_land/ERA_lst_base2008.nc',\n",
       " '/data1/user/gychoi/Data/ERA_land/ERA_lst_base2009.nc',\n",
       " '/data1/user/gychoi/Data/ERA_land/ERA_lst_base2010.nc',\n",
       " '/data1/user/gychoi/Data/ERA_land/ERA_lst_base2011.nc',\n",
       " '/data1/user/gychoi/Data/ERA_land/ERA_lst_base2012.nc',\n",
       " '/data1/user/gychoi/Data/ERA_land/ERA_lst_base2013.nc',\n",
       " '/data1/user/gychoi/Data/ERA_land/ERA_lst_base2014.nc',\n",
       " '/data1/user/gychoi/Data/ERA_land/ERA_lst_base2015.nc',\n",
       " '/data1/user/gychoi/Data/ERA_land/ERA_lst_base2016.nc',\n",
       " '/data1/user/gychoi/Data/ERA_land/ERA_lst_base2017.nc',\n",
       " '/data1/user/gychoi/Data/ERA_land/ERA_lst_base2018.nc',\n",
       " '/data1/user/gychoi/Data/ERA_land/ERA_lst_base2019.nc',\n",
       " '/data1/user/gychoi/Data/ERA_land/ERA_lst_base2020.nc',\n",
       " '/data1/user/gychoi/Data/ERA_land/ERA_lst_base2021.nc',\n",
       " '/data1/user/gychoi/Data/ERA_land/ERA_lst_base2022.nc']"
      ]
     },
     "execution_count": 4,
     "metadata": {},
     "output_type": "execute_result"
    }
   ],
   "source": [
    "file_list"
   ]
  },
  {
   "cell_type": "code",
   "execution_count": 5,
   "id": "4fac356e-1abf-430a-9519-08d0a4f6a507",
   "metadata": {
    "execution": {
     "iopub.execute_input": "2023-09-03T06:13:02.363260Z",
     "iopub.status.busy": "2023-09-03T06:13:02.362940Z",
     "iopub.status.idle": "2023-09-03T06:47:43.218326Z",
     "shell.execute_reply": "2023-09-03T06:47:43.217766Z",
     "shell.execute_reply.started": "2023-09-03T06:13:02.363245Z"
    },
    "tags": []
   },
   "outputs": [
    {
     "name": "stdout",
     "output_type": "stream",
     "text": [
      "year = 1998\r"
     ]
    }
   ],
   "source": [
    "hour = np.arange(0,24,3)\n",
    "file = []\n",
    "\n",
    "for i in range (len(year[10:10+10])):\n",
    "    file = []\n",
    "    data=xr.open_dataset(file_list[10:10+10][i])\n",
    "\n",
    "    for j in range (len(hour)):\n",
    "        hourly = data.sel(time = data['time.hour']==hour[j]).resample(time='D').mean('time')\n",
    "        file.append(hourly.sel(time=(( hourly['time.month'] >= 6) & ( hourly['time.month'] <= 8)),drop=True))\n",
    "\n",
    "        print(f'hour =',hour[j],end='\\r')\n",
    "\n",
    "    file = xr.concat(file,'hour')\n",
    "    file['hour'] = hour\n",
    "    file.to_netcdf('/data1/user/gychoi/Data/ERA_land/LST/ERA_lst'+str(year[10:10+10][i])+'.nc')\n",
    "\n",
    "    \n",
    "    del(file)\n",
    "    data.close()\n",
    "    \n",
    "    print(f'year =',year[10:10+10][i],end='\\r')"
   ]
  },
  {
   "cell_type": "code",
   "execution_count": null,
   "id": "405c27c6-afa3-4dd1-a4e7-77d99df78b8c",
   "metadata": {},
   "outputs": [],
   "source": []
  }
 ],
 "metadata": {
  "kernelspec": {
   "display_name": "kite",
   "language": "python",
   "name": "kite"
  },
  "language_info": {
   "codemirror_mode": {
    "name": "ipython",
    "version": 3
   },
   "file_extension": ".py",
   "mimetype": "text/x-python",
   "name": "python",
   "nbconvert_exporter": "python",
   "pygments_lexer": "ipython3",
   "version": "3.9.17"
  }
 },
 "nbformat": 4,
 "nbformat_minor": 5
}
